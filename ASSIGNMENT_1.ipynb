{
  "nbformat": 4,
  "nbformat_minor": 0,
  "metadata": {
    "colab": {
      "name": "ASSIGNMENT_1.ipynb",
      "provenance": [],
      "collapsed_sections": [],
      "authorship_tag": "ABX9TyMtg8j13KSXg/nyjKAuXUvZ",
      "include_colab_link": true
    },
    "kernelspec": {
      "name": "python3",
      "display_name": "Python 3"
    },
    "language_info": {
      "name": "python"
    }
  },
  "cells": [
    {
      "cell_type": "markdown",
      "metadata": {
        "id": "view-in-github",
        "colab_type": "text"
      },
      "source": [
        "<a href=\"https://colab.research.google.com/github/hritiksth764/END-COURSE-/blob/main/ASSIGNMENT_1.ipynb\" target=\"_parent\"><img src=\"https://colab.research.google.com/assets/colab-badge.svg\" alt=\"Open In Colab\"/></a>"
      ]
    },
    {
      "cell_type": "code",
      "metadata": {
        "colab": {
          "base_uri": "https://localhost:8080/"
        },
        "id": "hW8KKAgnCE1G",
        "outputId": "2a9c4bce-3b52-4eee-de14-422e9310244a"
      },
      "source": [
        "import torch\n",
        "from torch.autograd import Variable\n",
        "import torch.nn as nn\n",
        "import torch.nn.functional as F\n",
        "import torch.optim as optim\n",
        "import numpy as np\n",
        "import matplotlib.pyplot as plt\n",
        "%matplotlib inline\n",
        "torch.manual_seed(2)"
      ],
      "execution_count": null,
      "outputs": [
        {
          "output_type": "execute_result",
          "data": {
            "text/plain": [
              "<torch._C.Generator at 0x7fad22ccda90>"
            ]
          },
          "metadata": {},
          "execution_count": 199
        }
      ]
    },
    {
      "cell_type": "code",
      "metadata": {
        "id": "Wk_MN3rfCPlR"
      },
      "source": [
        "X = torch.Tensor([[0,0], [0,1], [1,0], [1,1]])\n",
        "Y = torch.Tensor([0, 1, 1, 0]).view(-1,1)"
      ],
      "execution_count": null,
      "outputs": []
    },
    {
      "cell_type": "code",
      "metadata": {
        "colab": {
          "base_uri": "https://localhost:8080/"
        },
        "id": "EA-TIH2BWphq",
        "outputId": "b8bb66a4-cf78-4096-f6ac-92c227fc35de"
      },
      "source": [
        "'''\n",
        "\n",
        "QUESTION 1 AND QUESTION 2\n",
        "\n",
        "'''\n",
        "\n",
        "class XOR(nn.Module):\n",
        "    def __init__(self, input_dim = 2, output_dim=1):\n",
        "        super(XOR, self).__init__()\n",
        "        self.lin1 = nn.Linear(input_dim, 5)\n",
        "        self.lin3 = nn.Linear(4, output_dim)\n",
        "        self.lin2 = nn.Linear(5,4)\n",
        "    \n",
        "    def forward(self, x):\n",
        "        x = self.lin1(x)\n",
        "        x = F.tanh(x)\n",
        "        x = self.lin2(x)\n",
        "        x = F.tanh(x)\n",
        "        x = self.lin3(x)\n",
        "        # x = F.tanh(x)\n",
        "        return x\n",
        "\n",
        "model = XOR()\n",
        "print(model)\n",
        "for parameter in model.parameters():\n",
        "    print(parameter)\n",
        "print(model.parameters())\n",
        "from torchsummary import summary\n",
        "summary(model,(2,2))"
      ],
      "execution_count": null,
      "outputs": [
        {
          "output_type": "stream",
          "name": "stdout",
          "text": [
            "XOR(\n",
            "  (lin1): Linear(in_features=2, out_features=5, bias=True)\n",
            "  (lin3): Linear(in_features=4, out_features=1, bias=True)\n",
            "  (lin2): Linear(in_features=5, out_features=4, bias=True)\n",
            ")\n",
            "Parameter containing:\n",
            "tensor([[-0.1045,  0.6300],\n",
            "        [-0.0445,  0.3834],\n",
            "        [ 0.5178,  0.3150],\n",
            "        [-0.6149,  0.5300],\n",
            "        [ 0.4663, -0.5069]], requires_grad=True)\n",
            "Parameter containing:\n",
            "tensor([-0.2521,  0.4813, -0.6874, -0.6198, -0.4792], requires_grad=True)\n",
            "Parameter containing:\n",
            "tensor([[ 0.1558, -0.2042, -0.4459,  0.1938]], requires_grad=True)\n",
            "Parameter containing:\n",
            "tensor([0.2529], requires_grad=True)\n",
            "Parameter containing:\n",
            "tensor([[ 0.1675, -0.3832,  0.4355, -0.0337, -0.4256],\n",
            "        [-0.0673,  0.2921,  0.2060, -0.0048,  0.3153],\n",
            "        [-0.4080,  0.3103,  0.4439, -0.2719,  0.0959],\n",
            "        [-0.0721, -0.3775, -0.0039, -0.1499, -0.3820]], requires_grad=True)\n",
            "Parameter containing:\n",
            "tensor([-0.3259,  0.0098,  0.4146,  0.1601], requires_grad=True)\n",
            "<generator object Module.parameters at 0x7fad21951150>\n",
            "----------------------------------------------------------------\n",
            "        Layer (type)               Output Shape         Param #\n",
            "================================================================\n",
            "            Linear-1                 [-1, 2, 5]              15\n",
            "            Linear-2                 [-1, 2, 4]              24\n",
            "            Linear-3                 [-1, 2, 1]               5\n",
            "================================================================\n",
            "Total params: 44\n",
            "Trainable params: 44\n",
            "Non-trainable params: 0\n",
            "----------------------------------------------------------------\n",
            "Input size (MB): 0.00\n",
            "Forward/backward pass size (MB): 0.00\n",
            "Params size (MB): 0.00\n",
            "Estimated Total Size (MB): 0.00\n",
            "----------------------------------------------------------------\n"
          ]
        },
        {
          "output_type": "stream",
          "name": "stderr",
          "text": [
            "/usr/local/lib/python3.7/dist-packages/torch/nn/functional.py:1794: UserWarning: nn.functional.tanh is deprecated. Use torch.tanh instead.\n",
            "  warnings.warn(\"nn.functional.tanh is deprecated. Use torch.tanh instead.\")\n"
          ]
        }
      ]
    },
    {
      "cell_type": "code",
      "metadata": {
        "id": "PBqE5Sn52YL4"
      },
      "source": [
        "def weights_init(model):\n",
        "    for m in model.modules():\n",
        "        if isinstance(m, nn.Linear):\n",
        "            # initialize the weight tensor, here we use a normal distribution\n",
        "            m.weight.data.normal_(0, 1)\n",
        "\n",
        "weights_init(model)"
      ],
      "execution_count": null,
      "outputs": []
    },
    {
      "cell_type": "code",
      "metadata": {
        "id": "rKkOqLeC2ZSo"
      },
      "source": [
        "loss_func = nn.L1Loss()"
      ],
      "execution_count": null,
      "outputs": []
    },
    {
      "cell_type": "code",
      "metadata": {
        "id": "hSqZrekL2b5I"
      },
      "source": [
        "optimizer = optim.SGD(model.parameters(), lr=0.02, momentum=0.9)"
      ],
      "execution_count": null,
      "outputs": []
    },
    {
      "cell_type": "code",
      "metadata": {
        "colab": {
          "base_uri": "https://localhost:8080/"
        },
        "id": "p33ya7rB2gPc",
        "outputId": "fcb108b7-ed01-4049-d896-a1c82b837b77"
      },
      "source": [
        "'''\n",
        "QUESTION 3\n",
        "'''\n",
        "epochs = 2100\n",
        "steps = X.size(0)\n",
        "for i in range(epochs):\n",
        "    for j in range(steps):\n",
        "        data_point = np.random.randint(X.size(0))\n",
        "        x_var = Variable(X[data_point], requires_grad=False)\n",
        "        y_var = Variable(Y[data_point], requires_grad=False)\n",
        "        \n",
        "        optimizer.zero_grad()\n",
        "        y_hat = model(x_var)\n",
        "        loss = loss_func.forward(y_hat, y_var)\n",
        "        loss.backward()\n",
        "        optimizer.step()\n",
        "        \n",
        "    if i % 50 == 0:\n",
        "        print( \"Epoch: {0}, Loss: {1}, \".format(i, loss.data.numpy()))"
      ],
      "execution_count": null,
      "outputs": [
        {
          "output_type": "stream",
          "name": "stderr",
          "text": [
            "/usr/local/lib/python3.7/dist-packages/torch/nn/functional.py:1794: UserWarning: nn.functional.tanh is deprecated. Use torch.tanh instead.\n",
            "  warnings.warn(\"nn.functional.tanh is deprecated. Use torch.tanh instead.\")\n"
          ]
        },
        {
          "output_type": "stream",
          "name": "stdout",
          "text": [
            "Epoch: 0, Loss: 0.09516441822052002, \n",
            "Epoch: 50, Loss: 0.002853214740753174, \n",
            "Epoch: 100, Loss: 0.2171483039855957, \n",
            "Epoch: 150, Loss: 0.9464837312698364, \n",
            "Epoch: 200, Loss: 0.7067776918411255, \n",
            "Epoch: 250, Loss: 0.16079634428024292, \n",
            "Epoch: 300, Loss: 0.06528884172439575, \n",
            "Epoch: 350, Loss: 0.08816272020339966, \n",
            "Epoch: 400, Loss: 0.10327553749084473, \n",
            "Epoch: 450, Loss: 0.049255698919296265, \n",
            "Epoch: 500, Loss: 0.4467812180519104, \n",
            "Epoch: 550, Loss: 0.1599169373512268, \n",
            "Epoch: 600, Loss: 0.04691249132156372, \n",
            "Epoch: 650, Loss: 0.14485764503479004, \n",
            "Epoch: 700, Loss: 0.5133978724479675, \n",
            "Epoch: 750, Loss: 0.4708113670349121, \n",
            "Epoch: 800, Loss: 0.3483259081840515, \n",
            "Epoch: 850, Loss: 0.03756040334701538, \n",
            "Epoch: 900, Loss: 0.06781625747680664, \n",
            "Epoch: 950, Loss: 0.3253958225250244, \n",
            "Epoch: 1000, Loss: 0.12247288227081299, \n",
            "Epoch: 1050, Loss: 0.2902243733406067, \n",
            "Epoch: 1100, Loss: 0.0496525764465332, \n",
            "Epoch: 1150, Loss: 0.15494143962860107, \n",
            "Epoch: 1200, Loss: 0.17114925384521484, \n",
            "Epoch: 1250, Loss: 0.01303410530090332, \n",
            "Epoch: 1300, Loss: 0.33915865421295166, \n",
            "Epoch: 1350, Loss: 0.023163199424743652, \n",
            "Epoch: 1400, Loss: 0.21894514560699463, \n",
            "Epoch: 1450, Loss: 0.3649975657463074, \n",
            "Epoch: 1500, Loss: 0.4560818672180176, \n",
            "Epoch: 1550, Loss: 0.017360210418701172, \n",
            "Epoch: 1600, Loss: 0.03242611885070801, \n",
            "Epoch: 1650, Loss: 0.42990732192993164, \n",
            "Epoch: 1700, Loss: 0.19481199979782104, \n",
            "Epoch: 1750, Loss: 0.31668996810913086, \n",
            "Epoch: 1800, Loss: 0.06174778938293457, \n",
            "Epoch: 1850, Loss: 0.44273513555526733, \n",
            "Epoch: 1900, Loss: 0.058216631412506104, \n",
            "Epoch: 1950, Loss: 0.034656524658203125, \n",
            "Epoch: 2000, Loss: 0.1787855625152588, \n",
            "Epoch: 2050, Loss: 0.268130898475647, \n"
          ]
        }
      ]
    }
  ]
}